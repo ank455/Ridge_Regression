{
 "cells": [
  {
   "cell_type": "code",
   "execution_count": null,
   "id": "ff3e6b95-3cff-4dbd-9ef5-ed009294a153",
   "metadata": {},
   "outputs": [],
   "source": [
    "#Ans 1\n",
    "Ridge regression is a model tuning method that is used to analyse any data that suffers from multicollinearity. This method performs L2 regularization. When the issue of multicollinearity occurs, least-squares are unbiased, and variances are large, this results in predicted values being far away from the actual values\n",
    "\n",
    "#Difference \n",
    "The key difference between Ridge regression and OLS is the addition of the regularization term. The OLS solution aims to minimize the residual sum of squares, while Ridge regression minimizes the sum of squared residuals plus the regularization term. By including this penalty term, Ridge regression introduces a bias into the coefficient estimates but reduces their variance. The value of λ determines the amount of regularization applied: higher values of λ result in greater shrinkage of the coefficients, and for λ = 0, Ridge regression reduces to OLS."
   ]
  },
  {
   "cell_type": "code",
   "execution_count": null,
   "id": "5f5ba59f-bca9-4697-89a6-3593af841722",
   "metadata": {},
   "outputs": [],
   "source": [
    "#Ans 2\n",
    "Assumption of Ridge Regression.\n",
    "(1) Linearity \n",
    "(2) Independence\n",
    "(3) Homoscedasticity\n",
    "(4) Normality\n",
    "(5) No Multicollinearity\n",
    "(6) No influential outliers"
   ]
  },
  {
   "cell_type": "code",
   "execution_count": null,
   "id": "a8ec6978-3aed-4d4d-970b-a897917fb400",
   "metadata": {},
   "outputs": [],
   "source": [
    "#Ans 3\n",
    "The selection of the tuning parameter lambda (λ) in Ridge regression is crucial to balance the trade-off between bias and variance. There are several methods commonly used to determine the optimal value\n",
    "\n",
    "\n",
    "(1)Cross-Validation\n",
    "(2)Grid Search\n",
    "(3)Analytical Solutions\n",
    "(4)Bayesian Methods"
   ]
  },
  {
   "cell_type": "code",
   "execution_count": null,
   "id": "07b07b8a-7a92-48c8-bdf6-c79cdc559e42",
   "metadata": {},
   "outputs": [],
   "source": [
    "#Ans 4\n",
    "We can use ridge regression for feature selection while fitting the model."
   ]
  },
  {
   "cell_type": "code",
   "execution_count": null,
   "id": "d01452a2-1502-440b-a88e-ca1ca57c25f3",
   "metadata": {},
   "outputs": [],
   "source": [
    "#Ans 5\n",
    "By adding a degree of bias to the regression estimates, ridge regression reduces the standard errors."
   ]
  },
  {
   "cell_type": "code",
   "execution_count": null,
   "id": "c1cccba9-99ed-474a-8e42-896ff0e876c1",
   "metadata": {},
   "outputs": [],
   "source": [
    "#Ans 6\n",
    "Yes,Ridge Regression handle both categorical and continuous independent variables?"
   ]
  },
  {
   "cell_type": "code",
   "execution_count": null,
   "id": "bdcbad08-3429-4281-9506-8f3224b38f26",
   "metadata": {},
   "outputs": [],
   "source": [
    "#Ans 7\n",
    "The ridge coefficients are a reduced factor of the simple linear regression coefficients and thus never attain zero values but very small values"
   ]
  },
  {
   "cell_type": "code",
   "execution_count": null,
   "id": "ce340be8-0415-4bea-80bc-dec9c250b6f7",
   "metadata": {},
   "outputs": [],
   "source": [
    "#Ans 8\n",
    "Yes, Ridge regression can be used for time-series data analysis. Time-series data refers to data collected over a sequence of time points, where the order of observations is crucial. Ridge regression can be applied to time-series data in the following ways:\n",
    "\n",
    "1. Autoregressive Model: In a time-series context, Ridge regression can be used to build autoregressive models. Autoregressive models assume that the value of the dependent variable at a given time point depends on its own past values. By including lagged values of the dependent variable as predictors, Ridge regression can capture the temporal dependencies and make predictions based on the historical values. The regularization term helps to stabilize the model and reduce overfitting.\n",
    "\n",
    "2. Seasonality and Trend Analysis: Time-series data often exhibit seasonality (periodic patterns) and trends (long-term changes). Ridge regression can be used to model and analyze these components. For example, by including seasonal indicators (e.g., binary variables representing different seasons or months) and trend variables (e.g., a linear or polynomial term indicating the overall trend), Ridge regression can capture and estimate the effects of seasonality and trends in the data.\n",
    "\n",
    "3. Smoothing and Forecasting: Ridge regression can also be applied for smoothing and forecasting in time-series analysis. By fitting a Ridge regression model to the historical data, you can estimate the underlying trend or pattern. The model can then be used to make predictions or generate smoothed values for future time points."
   ]
  }
 ],
 "metadata": {
  "kernelspec": {
   "display_name": "Python 3 (ipykernel)",
   "language": "python",
   "name": "python3"
  },
  "language_info": {
   "codemirror_mode": {
    "name": "ipython",
    "version": 3
   },
   "file_extension": ".py",
   "mimetype": "text/x-python",
   "name": "python",
   "nbconvert_exporter": "python",
   "pygments_lexer": "ipython3",
   "version": "3.10.8"
  }
 },
 "nbformat": 4,
 "nbformat_minor": 5
}
